{
 "cells": [
  {
   "cell_type": "markdown",
   "id": "ec97f6c1-ff1a-4bce-b1a5-b9222b189fc8",
   "metadata": {
    "tags": []
   },
   "source": [
    "# Problem set 3: density estimation and permutation tests based on projecting the empirical distribution"
   ]
  },
  {
   "cell_type": "markdown",
   "id": "911cacb4-ef0f-4ed7-9f31-bcbf59e28f14",
   "metadata": {},
   "source": [
    "1. Show that the collection of all sets of the form $(-\\infty, x] \\times (-\\infty, y]$\n",
    "comprise a Vapnik-Cervonenkis class (V-C class) over the plane.\n",
    "\n",
    "1. Show that intersections and finite unions of V-C classes are V-C classes. Show that countable unions of V-C classes need not be V-C classes.\n",
    "\n",
    "1. The file https://statistics.berkeley.edu/~stark/Java/Data/lomaPrieta.dat contains 221 observations of the times of putative aftershocks of the 17 October 1989 earthquake in Loma Prieta, California.\n",
    "There are 222 lines in the file.\n",
    "The first is 0, the main shock, which occurred at 4:15:43pm.\n",
    "The other lines are the times in days from the main event to the aftershocks,\n",
    "defined as earthquakes determined to have magnitude 3.0 and above, focal depth\n",
    "of 0--20km, and epicenter within 40km of the epicenter of the Loma Prieta earthquake.\n",
    "The data are from the UC Berkeley Seismographic Stations, courtesy of\n",
    "Dr. Bob Uhrhammer.\n",
    "(Hint: see See pp. 109--116 and Labs 10 and 11 in Freedman (2005), _Statistical Models: Theory and Practice_.)\n",
    "                \n",
    "    1. According to one theory, aftershocks follow the modified Omori Law. If so, the data are an iid sample of size 221, sorted into increasing order, from the density $C/(a+t)^b$, where $C$ is a normalizing constant, $a$ and $b$ are parameters,  and $t$ is time in the interval 0 to 805 days.\n",
    "                                \n",
    "        1. There are natural restrictions on $a$ and $b$ for the density to peak at 0 and decrease monotonically (Aftershocks generally are most frequent immediately after the main shock, then decrease in frequency.) What are those restrictions?\n",
    "        \n",
    "        1. Find the MLE for $a$ and $b$ from the Loma Prieta data.\n",
    "        \n",
    "        1. Compute the observed information matrix of the parameter estimates.\n",
    "        \n",
    "        1. Is the MLE biased in this application? Is the observed information matrix a good approximation to the variance-covariance matrix of $a$ and $b$?\n",
    "    \n",
    "    1. Estimate the probability density of aftershocks of the Loma Prieta earthquake for the time interval 0 to 805 days, conditional on the event that there  were 221 aftershocks during that period. (Assume that, conditional on the total number of aftershocks in the interval, the times of the aftershocks are iid random variables with common density $f$, whose functional form is unknown; the data are those times sorted into increasing order.) Use the estimators listed below. Compare and contrast the estimates. You might want to plot the density estimates on a semi-logarithmic scale (linear in time, but logarithmic in the density: the rate of aftershocks is extremely high in the first few days). Please implement the algorithms yourself---do not use \"canned\" routines from a package.  You will get a better feel for the methods if you have to code them. But feel free to use a canned package to check your results.\n",
    "                                \n",
    "        1. Histogram (use several choices of bin width).\n",
    "                                        \n",
    "        1. The naive estimator (use several bin widths).\n",
    "                                        \n",
    "        1. A kernel density estimate (use several bandwidths). The kernel you use is up to you, but say why you chose it.\n",
    "        1. The nearest neighbor estimate (use several neighborhood sizes)."
   ]
  },
  {
   "cell_type": "code",
   "execution_count": null,
   "id": "8ecf355a-af7c-4f09-aa3c-0c254274dbd3",
   "metadata": {},
   "outputs": [],
   "source": []
  }
 ],
 "metadata": {
  "kernelspec": {
   "display_name": "Python 3 (ipykernel)",
   "language": "python",
   "name": "python3"
  },
  "language_info": {
   "codemirror_mode": {
    "name": "ipython",
    "version": 3
   },
   "file_extension": ".py",
   "mimetype": "text/x-python",
   "name": "python",
   "nbconvert_exporter": "python",
   "pygments_lexer": "ipython3",
   "version": "3.10.4"
  }
 },
 "nbformat": 4,
 "nbformat_minor": 5
}
