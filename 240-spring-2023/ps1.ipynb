{
 "cells": [
  {
   "cell_type": "markdown",
   "id": "ac0b7a1d-05e9-411a-a365-0215763f4eec",
   "metadata": {},
   "source": [
    "# Problem set 1: Mathematical Preliminaries"
   ]
  },
  {
   "cell_type": "markdown",
   "id": "08b49603-1d65-46b8-ab79-57e2b9f1c872",
   "metadata": {},
   "source": [
    "1. Let $A$, $B$ and $C$ be sets.\n",
    "Show that $A \\cup (B \\cap C ) = (A \\cup B ) \\cap (A \\cup C)$, and\n",
    "$A \\cap (B \\cup C) = (A \\cap B ) \\cup (A \\cap C )$.\n",
    "\n",
    "1. Let $A$ and $B$ be sets.\n",
    "Show that $A-B = \\emptyset$ implies $A \\subset B$.\n",
    "\n",
    "1. Show that for any sets $A$, $B$, $C$, $D$,\n",
    "$(A \\bigotimes B) \\cap (C \\bigotimes D) = (A \\cap C) \\bigotimes (B \\cap D)$.\n",
    "\n",
    "1. Show that for any function $f$ with domain $\\mathcal{X}$, if $A, B \\subset \\mathcal{X}$,\n",
    "then $f(A \\cup B ) = fA \\cup fB$.\n",
    "Give an example that shows $f(A \\cap B)$ is not necessarily equal to $fA \\cap fB$.\n",
    "\n",
    "1. Let $f$ be a function with co-domain $\\mathcal{Y}$, and $A, B \\subset \\mathcal{Y}$.\n",
    "Does $f^{-1} (A \\cap B) = f^{-1}A \\cap f^{-1}B$?\n",
    "Does $f^{-1} (A \\cup B ) = f^{-1}A \\cup f^{-1} B$? \n",
    "\n",
    "1. Let $f$ have domain $\\mathcal{X}$ and co-domain $\\mathcal{Y}$, and suppose that $A \\subset \\mathcal{X}$\n",
    "and $B \\subset \\mathcal{Y}$.\n",
    "Does $f^{-1}(f(A)) = A$?\n",
    "Does $f(f^{-1}B) = B$?\n",
    "\n",
    "1. Let $\\mathcal{G}$ be a group with identity $e$.\n",
    "Show that $ae = (a^{-1})^{-1} = a$. (That is, show that $e$ is not only the identity from the left, it\n",
    "is also the identity from the right, and that if $a^{-1}a = e$, then\n",
    "$aa^{-1} = e$.)\n",
    "\n",
    "1. Let $a, b, c, d \\in F$, where $F$ is a field.\n",
    "Show that if $b,d \\ne 0$, then $a/b+c/d = (ad+bc)/bd$.\n",
    "\n",
    "1. Show that $A= \\{0,1,2, \\cdots, p-1 \\}$ with $p$ prime is a field, if\n",
    "addition and multiplication are defined modulo $p$.\n",
    "What breaks down if $p$ is not prime?\n",
    "For $p=7$, show that the multiplicative inverse of 2 is 4.\n",
    "\n"
   ]
  },
  {
   "cell_type": "code",
   "execution_count": null,
   "id": "70fd897a-6789-4082-92d4-8db1f796a395",
   "metadata": {},
   "outputs": [],
   "source": []
  }
 ],
 "metadata": {
  "kernelspec": {
   "display_name": "Python 3 (ipykernel)",
   "language": "python",
   "name": "python3"
  },
  "language_info": {
   "codemirror_mode": {
    "name": "ipython",
    "version": 3
   },
   "file_extension": ".py",
   "mimetype": "text/x-python",
   "name": "python",
   "nbconvert_exporter": "python",
   "pygments_lexer": "ipython3",
   "version": "3.10.4"
  }
 },
 "nbformat": 4,
 "nbformat_minor": 5
}
