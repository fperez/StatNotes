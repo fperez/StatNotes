{
 "cells": [
  {
   "cell_type": "markdown",
   "id": "57649ae7-96b1-45ed-b781-bf94e921580d",
   "metadata": {},
   "source": [
    "# Assignments\n",
    "\n",
    "## Statistics 240, spring 2023\n",
    "\n",
    "There will be approximately four problem sets, two coding projects involving open-source code contributions, and a longer term project involving data analysis.\n",
    "\n",
    "The longer project involves re-analyzing data in a published paper that inappropriately used parametric methods\n",
    "or used inappropriate nonparametric methods,\n",
    "using appropriate nonparametric methods instead. Please start looking for a paper that interests you right away.\n"
   ]
  },
  {
   "cell_type": "markdown",
   "id": "dfbe930e-6146-40d5-ad6f-07a12d46b25c",
   "metadata": {
    "tags": []
   },
   "source": [
    "## Schedule\n",
    "\n",
    "1. Week 1. 15 January: Review and tests based on nonnegative supermartingales\n",
    "    + If you do not already have an ORCID, sign up for one at https://orcid.org/. \n",
    "    + review: \n",
    "        - [mathematical foundations](./math-foundations.ipynb)\n",
    "        - [mathematical inequalities](./math-inequalities.ipynb)\n",
    "        - [discrete probability](./prob.ipynb)\n",
    "    + reading:\n",
    "        - [martingales](./martingales.ipynb)\n",
    "        - Vovk, V., and R. Wang, 2021. $E$-values: Calibration, combination, and applications, http://alrw.net/e/02.pdf\n",
    "        - Waudby-Smith, I. and A. Ramdas, 2022. Estimating means of bounded random variables by betting, https://arxiv.org/abs/2010.09686\n",
    "        - Stark, P.B., 2023. ALPHA: Audit that Learns from Previously Hand-Audited ballots,\n",
    "_Ann. Appl. Stat._, https://www.e-publications.org/ims/submission/AOAS/user/submissionFile/54812?confirm=3a9dc0d4\n",
    "    + [Problem set 1](./ps1.ipynb) Due 1/30/2023, 11:59pm.\n",
    "\n",
    "1. Weeks 2-3. 22 January: Sampling from binary populations\n",
    "    + Binomial and hypergeometric tests and confidence intervals\n",
    "        - [duality between tests and confidence sets](../confidence-sets.ipynb)\n",
    "        - tailoring the rejection region\n",
    "    + Sequential tests and the SPRT\n",
    "        - nonnegative supermartingales and Ville's inequality\n",
    "        - examples: additive, multiplicative, likelihood ratios, prior-posterior ratio, betting\n",
    "        - the SPRT\n",
    "    + Inference from stratified samples\n",
    "        - combining independent tests using $P$-value combining functions\n",
    "        - combining tests using $E$-values: multiplication and averaging\n",
    "        - stratified inference using union-intersection tests\n",
    "        - [Wright's method, Wendell & Schmee, and greedy optimization](./binary-strat.ipynb)\n",
    "        - product supermartingales: ALPHA and Sweeter than SUITE"
   ]
  },
  {
   "cell_type": "code",
   "execution_count": null,
   "id": "ab2542a5-132e-4349-be14-e5e0923759fe",
   "metadata": {},
   "outputs": [],
   "source": []
  }
 ],
 "metadata": {
  "kernelspec": {
   "display_name": "Python 3 (ipykernel)",
   "language": "python",
   "name": "python3"
  },
  "language_info": {
   "codemirror_mode": {
    "name": "ipython",
    "version": 3
   },
   "file_extension": ".py",
   "mimetype": "text/x-python",
   "name": "python",
   "nbconvert_exporter": "python",
   "pygments_lexer": "ipython3",
   "version": "3.10.4"
  }
 },
 "nbformat": 4,
 "nbformat_minor": 5
}
