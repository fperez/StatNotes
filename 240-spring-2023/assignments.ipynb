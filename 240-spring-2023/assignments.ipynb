{
 "cells": [
  {
   "cell_type": "markdown",
   "id": "57649ae7-96b1-45ed-b781-bf94e921580d",
   "metadata": {},
   "source": [
    "# Assignments\n",
    "\n",
    "## Statistics 240, spring 2023\n",
    "\n",
    "There will be approximately four problem sets, two coding projects involving open-source code contributions, and a longer term project involving data analysis.\n",
    "\n",
    "The longer project involves re-analyzing data in a published paper that inappropriately used parametric methods\n",
    "or used inappropriate nonparametric methods,\n",
    "using appropriate nonparametric methods instead. Please start looking for a paper that interests you right away.\n"
   ]
  },
  {
   "cell_type": "markdown",
   "id": "dfbe930e-6146-40d5-ad6f-07a12d46b25c",
   "metadata": {
    "tags": []
   },
   "source": [
    "## Schedule\n",
    "\n",
    "1. Week 1. 15 January. Review and tests based on nonnegative supermartingales\n",
    "    + If you do not already have an ORCID, sign up for one at https://orcid.org/. \n",
    "    + review: [mathematical foundations](./math-foundations.ipynb), [mathematical inequalities](./math-inequalities.ipynb), [discrete probability](./prob.ipynb), [martingales](./martingales.ipynb)\n",
    "    + reading:\n",
    "        - Vovk, V., and R. Wang, 2021. $E$-values: Calibration, combination, and applications, http://alrw.net/e/02.pdf\n",
    "        - Waudby-Smith, I. and A. Ramdas, 2022. Estimating means of bounded random variables by betting, https://arxiv.org/abs/2010.09686\n",
    "        - Stark, P.B., 2023. ALPHA: Audit that Learns from Previously Hand-Audited ballots,\n",
    "_Ann. Appl. Stat._, https://www.e-publications.org/ims/submission/AOAS/user/submissionFile/54812?confirm=3a9dc0d4\n",
    "    + [Problem set 1](./ps1.ipynb) Due 1/30/2023, 11:59pm.\n"
   ]
  },
  {
   "cell_type": "code",
   "execution_count": null,
   "id": "ab2542a5-132e-4349-be14-e5e0923759fe",
   "metadata": {},
   "outputs": [],
   "source": []
  }
 ],
 "metadata": {
  "kernelspec": {
   "display_name": "Python 3 (ipykernel)",
   "language": "python",
   "name": "python3"
  },
  "language_info": {
   "codemirror_mode": {
    "name": "ipython",
    "version": 3
   },
   "file_extension": ".py",
   "mimetype": "text/x-python",
   "name": "python",
   "nbconvert_exporter": "python",
   "pygments_lexer": "ipython3",
   "version": "3.10.4"
  }
 },
 "nbformat": 4,
 "nbformat_minor": 5
}
