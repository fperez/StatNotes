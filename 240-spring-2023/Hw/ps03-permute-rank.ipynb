{
 "cells": [
  {
   "cell_type": "markdown",
   "id": "2bd57983-f0c0-477f-8c3f-a7ba7e56b801",
   "metadata": {},
   "source": [
    "# Problem set: permutation tests, rank-based tests, and simulating $P$-values"
   ]
  },
  {
   "cell_type": "markdown",
   "id": "a3889b8a-e52f-4c6e-ae0b-3b9dede2e8a5",
   "metadata": {},
   "source": [
    "1. Explain the \"randomization model\" (randomizing an experimental group into different treatments)\n",
    "and some of its advantages and limitations.\n",
    "State the strong null hypothesis for the randomization model (the Neyman model) and the typical weak null hypothesis.\n",
    "\n",
    "1. For the randomization model, state some pros and cons of the Wilcoxon rank sum test versus a permutation test based on the sample mean or on the permutation distribution of the $t$ statistic, compared with the parametric two-sample Student $t$-test. For each test, state the null hypothesis under which the nominal $P$-value of each test is its true $P$-value. \n",
    "\n",
    "1. Show mathematically that the Wilcoxon rank-sum test (which uses the sum of the ranks of the treatment group as the test statistic) is equivalent to the Mann-Whitney test (which uses the number of (control, treatment) pairs for which the control response is less than the control response as the test statistic), in the sense that they reject the null for the same data sets. (It's enough to show that their relationship is monotonic.) You may assume that there are no ties in the data, so the (mid-)ranks are $\\{1, \\ldots, n\\}$.\n",
    "\n",
    "1. Consider an experiment involving 9 subjects, 5 assigned at random to treatment and 4 to control. We want to test the null hypothesis that \"treatment makes no difference\" at significance level 10%. For each individual, we measure a quantitative response. Think about the omnibus alternative, about the one-sided shift alternative that treatment increases the response, and about the two-sided shift alternative that treatment increases or decreases the response. Consider four tests: the Wilcoxon rank-sum test (using mid-ranks for ties), a permutation test based on the difference in the sample means for the control and the treatment groups, the Smirnov test, and a 2-sample $t$-test based on the difference in the sample means for the control and treatment groups.\n",
    "\n",
    "    1. Explain the assumptions of each test, including a precise statement of the null hypotheses.\n",
    "\n",
    "    2. State strong and weak versions of each null hypothesis. Note whether the nominal significance level of each test is for the strong or weak null hypothesis.\n",
    "\n",
    "    3.  Which test would you use in this situation, absent any additional information about the nature of the experiment? Why?\n",
    "\n",
    "    4. Find or estimate by simulation the power of each test against the one-sided shift alternative that treatment increases each individual's response by 1 unit. If the power depends on additional unspecified features of the problem, such as the baseline responses of the subjects, explain what those features are, and estimate the power for a few different values of those features.\n",
    "\n",
    "    5. For one-sided versions of the Wilcoxon rank-sum test, the permutation test using the sample mean, and the $t$-test, and for the Smirnov test, find the (nominal) $P$-values for the following hypothetical data, and the power against a shift alternative that treatment increases the response by one unit:\n",
    "| treatment | 1 | 2 | 3 | 3 | 4 |\n",
    "|----------|---:|----:|----:|----:|----:|\n",
    "| control   | 0 | 1.5 | 2.5 | 3.5 |\n",
    "    \n",
    "\n",
    "5. Consider the Smirnov test for an experiment involving 5 subjects, 2 assigned at random to treatment and 3 to control.\n",
    "\n",
    "    1. Enumerate all possible values of the test statistic and their probabilities under the strong null hypothesis of no treatment effect, assuming no ties among the data.\n",
    "    \n",
    "    1. Now suppose that the observed responses are as follows. Treatment: 1, 2. Control: 0, 2, 4. Estimate the probabilities in the previous part by simulation, using 10,000 replications. Implement the simulation two ways: one by taking the first $n$ elements of a pseudorandom permutations (the PIKK algorithm) and the other by directly constructing pseudorandom samples. Provide unit tests and a coverage report for the functions you write.\n",
    "\n",
    "    1. Calculate the theoretical standard error of the simulated probabilities, on the assumption that the PRNG generates genuine uniform random numbers.\n",
    "\n",
    "    1. If the simulations were truly random and uniform, what would be the joint distribution of the number of times the test statistic takes each of its possible values in the simulation? (Identify the parametric distribution and its parameters.)\n",
    "\n",
    "    1. Sketch how you would test the hypothesis that the true probabilities are equal to the values you calculated in the first part of this question using the empirical frequencies you observed in the second part.\n",
    "\n",
    "    1. What software package did you use for the simulations? What is its default algorithm for calculating pseudo-random numbers? What is the period of that pseudo-random number generator? What is the largest number of objects for which that generator can give you all permutations? Is there an option in the package to use a better pseudo-random number generator?  If so, which one? What algorithm does the package use to generate permutations? What algorithm does the package use to generate random samples?\n",
    "    \n",
    "6. Give two statistical interpretations and theoretical justifications for using $\\mbox{hits}/\\mbox{reps}$ as the simulation $P$-value and two for using $(\\mbox{hits}+1)/(\\mbox{reps}+1)$ as the simulation $P$-value. Which do you prefer? Why? \n",
    "\n",
    "7. Give three real-world examples of a scientific null hypothesis that can be expressed as the invariance of a probability model for the data under the action of some group. In each case, identify the \"scientific\" invariance and the corresponding group invariance for the data. Explain how you could use that invariance to test the scientific hypotheses without knowing anything else about the probability model for the data."
   ]
  },
  {
   "cell_type": "markdown",
   "id": "bb2ebb67-3c21-4ea1-a57d-6da6636e974e",
   "metadata": {
    "tags": []
   },
   "source": [
    "-----\n",
    "Rosenzweig, M.R., E.L. Bennet, and M.C. Diamond, 1972. Brain changes in response to experience, _Scientific American_, _226_, 22&ndash;29 report an experiment in which 11 triples of male rats, each triple from the same litter, were\n",
    "assigned at random to three different environments, \"enriched\" (E), standard, and \"impoverished.\"\n",
    "\n",
    "After 65 days, they euthanized the rats and measured their cortical masses (mg).\n",
    "Here are the results:\n",
    "<table>\n",
    "<tr>\n",
    "<td> enriched </td><td> 689 </td><td> 656 </td><td> 668 </td><td> 660 </td><td> 679 </td><td> 663 </td><td> 664 </td><td> 647 </td><td> 694 </td><td> 633 </td><td>653 </td>\n",
    "</tr>\n",
    "<tr>\n",
    "<td> impoverished </td><td> 657</td><td> 623</td><td> 652</td><td> 654</td><td> 658</td><td> 646</td><td> 600</td><td> 640</td><td> 605</td><td> 635</td><td> 642 </td>\n",
    "</tr>\n",
    "<tr>\n",
    "<td> difference </td><td> 32</td><td>  33</td><td>  16</td><td>   6</td><td>  21</td><td>  17</td><td>  64</td><td>   7</td><td>  89</td><td>  -2</td><td>  11\n",
    "</tr>\n",
    "</table>\n",
    "\n",
    "8. Code, from scratch, an appropriate 1-sample permutation test in Python using the sum of the 11 differences as the test statistic. The permutation scheme should match the actual randomization in the experiment.\n",
    "You may either construct a test that generates permutations at random, or write code that enumerates all permutations (since there are only 2048 possible equally-likely data in this case).\n",
    "If you choose to enumerate all permutations, you can use the `itertools` library.\n",
    "Provide unit tests and coverate reports for the functions you write.\n",
    "\n",
    "9. Explain whether a 1-sided or 2-sided test is appropriate.\n",
    "\n",
    "10. Under the Neyman model, find the $P$-value of the strong null hypothesis that the treatment makes no difference whatsoever.\n",
    "Use $10^4$ random assignments or enumerate all possible assignments.\n",
    "Your code should work in the general case (different data, different number of litters), not only the particular set of 22 numbers given.\n",
    "That said, for reference, the $P$-value for a 2-sided test should be $1/2^9$ for\n",
    "these data, so you can check your answer.\n",
    "\n",
    "11. Find an upper confidence bound for the exact $P$-value (based on all possible permutations) by inverting Binomial tests. You may re-use code from the class to do this. If you did not use simulations but instead used all possible assignments, explain how you would get an upper confidence bound if you had simulated things instead.\n",
    "\n",
    "For your convenience, the data are below in tuple of lists"
   ]
  },
  {
   "cell_type": "code",
   "execution_count": 2,
   "id": "ced5ac9c-e83c-4a86-8214-b2984816f9e4",
   "metadata": {
    "tags": []
   },
   "outputs": [],
   "source": [
    "brain_wts = [ [689, 656, 668, 660, 679, 663, 664, 647, 694, 633, 653],\n",
    "              [657, 623, 652, 654, 658, 646, 600, 640, 605, 635, 642] \n",
    "            ]"
   ]
  }
 ],
 "metadata": {
  "kernelspec": {
   "display_name": "Python 3 (ipykernel)",
   "language": "python",
   "name": "python3"
  },
  "language_info": {
   "codemirror_mode": {
    "name": "ipython",
    "version": 3
   },
   "file_extension": ".py",
   "mimetype": "text/x-python",
   "name": "python",
   "nbconvert_exporter": "python",
   "pygments_lexer": "ipython3",
   "version": "3.10.4"
  }
 },
 "nbformat": 4,
 "nbformat_minor": 5
}
