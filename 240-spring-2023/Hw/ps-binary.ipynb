{
 "cells": [
  {
   "cell_type": "markdown",
   "id": "64d99e59-4fba-48ef-b3c3-5346abb24b79",
   "metadata": {},
   "source": [
    "# Problem set: binary populations\n",
    "\n",
    "Recall the [Rigdon and Hudgens (2015)](https://onlinelibrary.wiley.com/doi/abs/10.1002/sim.6384)) and \n",
    "[Li and Ding (2016)](https://onlinelibrary.wiley.com/doi/abs/10.1002/sim.6764) approaches to making\n",
    "a confidence interval for the average treatment effect $\\bar{\\tau}$ in binary experiments with binary outcomes.\n",
    "The notebook includes python implementations of three building blocks, `N_generator`, `filter_table`, and `potential_outcomes`. \n",
    "In this assignment, you will use those building blocks to implement the Li and Ding method.\n",
    "Provide unit tests (using `pytest`) and test coverage reports for all the functions you implement in this assignment.\n",
    "\n",
    "Recall that $n_{wk}$ is the number of subjects assigned to treatment $w$ whose response was $k$, for $w, k \\in \\{0, 1\\}$, and that $N_{tr}$ is the number of subjects whose response would be $r$ if they were assigned to treatment $t$.\n",
    "The matrix $\\mathbf{N}$ fully specifies the study population; the matrix $\\mathbf{n} := (n_{wk})_{w, k \\in \\{0, 1\\}}$\n",
    "represents the data that would be observed for a given assignment of subjects to treatment or control.\n",
    "\n",
    "1. Write a function to simulate observed response data $\\mathbf{n}$ \n",
    "from a hypothesized 2x2 complete outcome table $\\mathbf{N}$, \n",
    "taking as input the outcome table, the number $n$ of subjects to be assigned to the active treatment, \n",
    "the number of replications, and an object of class\n",
    "`RandomState` to generate the pseudo-random samples.\n",
    "The function should generate observed response tables $\\mathbf{n}$,\n",
    "from pseudo-random samples of subjects' responses,\n",
    "randomly allocating $n$ subjects to treatment and the other $m=N-n$ to control.\n",
    "The pseudo-random sampling could be implemented in many ways, including \"exploding\" the full outcome table\n",
    "$\\mathbf{N}$ into a 2x$N$ table with a row for each subject, as described in the chapter.\n",
    "But to save memory, instead implement it in a way that does not require explicitly storing all $2N$ responses, \n",
    "but simulates observed responses \"directly\" from the 2x2 response table $\\mathbf{N}$ using weighted random \n",
    "sampling without replacement,\n",
    "where the weights are adjusted as subjects are allocated.\n",
    "Justify your choice of the algorithm you use for weighted random sampling.\n",
    "\n",
    "1. Write a function to test whether a hypothesized 2x2 outcome table $\\mathbf{N}$ \n",
    "is (statisticaly) consistent with a table $\\mathbf{n} = (n_{wk})$ of observed responses.\n",
    "The test should allow an arbitrary test statistic $T$ to be passed as an argument.\n",
    "The test statistic should take as input a 2x2 \"data\" table of observed responses and\n",
    "a hypothesized table of all outcomes $\\mathbf{N}$).\n",
    "\n",
    "\n",
    "1. Using those functions, write a function that finds a confidence interval for the\n",
    "average treatment effect, allowing an arbitrary test statistic to be passed to the function.\n",
    "The default value of the test statistic should be $T = | \\hat{\\tau} - \\bar{\\tau}|$.\n",
    "Use simulations to estimate the tail probabilities.\n",
    "The function should take as input a number of iterations to use (default 10^4), the confidence level (default 0.95),\n",
    "and a seed or instance of a RandomState object, with a default of an instance of a numpy RandomState\n",
    "object initialized without specifying a seed.\n",
    "To improve efficiency, the function should not test whether a response table is consistent with\n",
    "the data if another table with the same average treatment effect has already been tested and\n",
    "was not rejected.\n",
    "\n",
    "\n",
    "1. There are many other test statistics one could use instead of $T = | \\hat{\\tau} - \\bar{\\tau}|$.\n",
    "Recall Sterne's method in the discussion of inverting tests to get confidence intervals for the \n",
    "binomial parameter $p$ and for the hypergeometric parameter $G$, and the difference between \n",
    "tests that exclude the same probability from both tails versus tests that minimize the number of \n",
    "outcomes in the acceptance region.\n",
    "How might you use those ideas to get tighter confidence intervals for the average treatment effect\n",
    "in binary experiments with binary outcomes?\n",
    "Implement three other test statistics and perform some simulations using different \"true\" response\n",
    "tables to compare the expected lengths of the confidence intervals produced by the different\n",
    "test statistics.\n",
    "Try to provide some intuition for when each method works well, and for which is best overall.\n"
   ]
  },
  {
   "cell_type": "code",
   "execution_count": null,
   "id": "3bd098ce-079a-4a15-90f6-dafb90b7f7e4",
   "metadata": {},
   "outputs": [],
   "source": []
  }
 ],
 "metadata": {
  "kernelspec": {
   "display_name": "Python 3 (ipykernel)",
   "language": "python",
   "name": "python3"
  },
  "language_info": {
   "codemirror_mode": {
    "name": "ipython",
    "version": 3
   },
   "file_extension": ".py",
   "mimetype": "text/x-python",
   "name": "python",
   "nbconvert_exporter": "python",
   "pygments_lexer": "ipython3",
   "version": "3.10.4"
  }
 },
 "nbformat": 4,
 "nbformat_minor": 5
}
