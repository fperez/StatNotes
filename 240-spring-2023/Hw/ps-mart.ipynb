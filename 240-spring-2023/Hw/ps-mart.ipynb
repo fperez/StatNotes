{
 "cells": [
  {
   "cell_type": "markdown",
   "id": "61cbbdb9-9729-4eb4-a2d7-0d7a2d9cd885",
   "metadata": {},
   "source": [
    "# Problem set: Martingales"
   ]
  },
  {
   "cell_type": "markdown",
   "id": "c37dc9cd-3247-48d2-8a36-6662dbb5618b",
   "metadata": {},
   "source": [
    "1. Suppose $\\{ M_i \\}_{i \\in \\mathbb{N}}$ is a countable collection of supermartingales with respect to the\n",
    "same filtration. Show that every positive linear combination of any finite subset of them is a supermartingale with\n",
    "respect to the same filtration, and that the expected value of the first term in that supermartingale is\n",
    "the same positive linear combination of the expected values of the first terms.\n",
    "\n",
    "1. In light of the previous result, a convex combination of a finite collection of nonnegative supermartingales (on the same filtration) starting at one is a nonnegative supermartingale starting at one. How can that be used to construct $E$-values?\n",
    "\n",
    "1. Is there an analogous result when the supermartingales are not defined with respect to a common filtration?\n",
    "How might you construct a common filtration from the \"marginal\" filtrations?\n",
    "\n",
    "1. Prove that a concave function of a martingale is a supermartingale.\n",
    "\n"
   ]
  }
 ],
 "metadata": {
  "kernelspec": {
   "display_name": "Python 3 (ipykernel)",
   "language": "python",
   "name": "python3"
  },
  "language_info": {
   "codemirror_mode": {
    "name": "ipython",
    "version": 3
   },
   "file_extension": ".py",
   "mimetype": "text/x-python",
   "name": "python",
   "nbconvert_exporter": "python",
   "pygments_lexer": "ipython3",
   "version": "3.10.4"
  }
 },
 "nbformat": 4,
 "nbformat_minor": 5
}
