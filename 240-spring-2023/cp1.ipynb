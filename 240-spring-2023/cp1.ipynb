{
 "cells": [
  {
   "cell_type": "markdown",
   "id": "1bf3a0c6-cd2e-4bcc-8377-1821fd1e3871",
   "metadata": {},
   "source": [
    "# Coding project 1"
   ]
  },
  {
   "cell_type": "markdown",
   "id": "5fbe86fb-d72b-4eeb-b8a4-d43fd050c716",
   "metadata": {},
   "source": [
    "## Contributing to an open source package: unit tests\n",
    "\n",
    "+ See https://github.com/statlab/permute and https://statlab.github.io/permute/\n",
    "\n",
    "+ Read https://statlab.github.io/permute/dev/index.html\n",
    "\n",
    "+ Clone https://github.com/statlab/permute to your own device or to datahub. Set upstream to be a repository within your Berkeley Github repo for Stat 240.\n",
    "\n",
    "\n",
    "+ Look at the code coverage for the latest build, https://app.codecov.io/gh/statlab/permute\n",
    "\n",
    "+ Identify at least one function that does not have complete test coverage.\n",
    "\n",
    "+ Fork your `permute` main branch to make a testing branch\n",
    "\n",
    "+ Write a unit test that exercises functionality that was not previously tested. Document your unit test\n",
    "using an appropriate docstring that follows PEP8 (https://peps.python.org/pep-0008/) and PEP257 (https://peps.python.org/pep-0257/)\n",
    "\n",
    "+ Verify that your test increases the coverage, using covecov. Github automation can be configured to\n",
    "run codecov whenever you push your branch and/or make a pull request. \n",
    "That's how it's set up at https://github.com/statlab/permute\n",
    "\n",
    "+ When everything is verified, make a pull request at https://github.com/statlab/permute to have your test included\n",
    "in the package. Congratulations! You've made a pull request for an open source project! If the moderator approves\n",
    "your pull request, you will be listed as a contributor.\n",
    "\n",
    "+ Bonus: find one or more existing unit tests in `permute` that do not exercise the code well and write better unit tests to replace them. Verify that you have not decreased the coverage. Make a pull request to the project once you have verified everything."
   ]
  },
  {
   "cell_type": "code",
   "execution_count": null,
   "id": "f21c9240-a2b5-435f-a823-beef37a1ccd0",
   "metadata": {},
   "outputs": [],
   "source": []
  }
 ],
 "metadata": {
  "kernelspec": {
   "display_name": "Python 3 (ipykernel)",
   "language": "python",
   "name": "python3"
  },
  "language_info": {
   "codemirror_mode": {
    "name": "ipython",
    "version": 3
   },
   "file_extension": ".py",
   "mimetype": "text/x-python",
   "name": "python",
   "nbconvert_exporter": "python",
   "pygments_lexer": "ipython3",
   "version": "3.10.4"
  }
 },
 "nbformat": 4,
 "nbformat_minor": 5
}
