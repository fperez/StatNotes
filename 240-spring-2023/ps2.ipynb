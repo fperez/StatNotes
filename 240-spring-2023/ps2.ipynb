{
 "cells": [
  {
   "cell_type": "markdown",
   "id": "2bd57983-f0c0-477f-8c3f-a7ba7e56b801",
   "metadata": {},
   "source": [
    "# Problem set 2"
   ]
  },
  {
   "cell_type": "markdown",
   "id": "a3889b8a-e52f-4c6e-ae0b-3b9dede2e8a5",
   "metadata": {},
   "source": [
    "1. Write a brief (1--2 page) research proposal for your term project.  The proposal\n",
    "should include the primary reference, the scientific question it addresses,\n",
    "a description of how the data were collected, and the methods used in the paper.\n",
    "(A later assignment will address the methods you plan to use instead.)\n",
    "and a description of the you plan to use.\n",
    "If you need help picking a topic, see me.\n",
    "\n",
    "1. Explain the ``randomization model'' and some of its advantages and limitations.\n",
    "State the strong null hypothesis for the randomization model and the typical weak null.\n",
    "\n",
    "1. For the randomization model, state some pros and cons of the Wilcoxon \n",
    "rank sum test versus a permutation test based on the sample mean or on the permutation distribution\n",
    "of the $t$ statistic, compared\n",
    "with the parametric two-sample Student $t$-test.\n",
    "State the null hypothesis for each of the tests.\n",
    "\n",
    "1. Consider an experiment involving 9 subjects, 5 assigned at random to treatment\n",
    "and 4 to control.\n",
    "We want to test the null hypothesis that \"treatment makes no difference\"\n",
    "at significance level 10%.\n",
    "For each individual, we measure a quantitative response.\n",
    "Think about the omnibus alternative, about the one-sided shift alternative\n",
    "that treatment increases the response, and about the two-sided shift\n",
    "alternative that treatment increases or decreases the response.\n",
    "Consider four tests: the Wilcoxon rank-sum test (using mid-ranks for ties), a\n",
    "permutation test based on the difference in the sample means for the control and\n",
    "the treatment groups, the Smirnov test, and a 2-sample $t$-test based on the\n",
    "difference in the sample means for the control and treatment groups.\n",
    "\n",
    "    1. Explain the assumptions of each test, including a precise statement of the null hypotheses.\n",
    "\n",
    "    1. State strong and weak versions of each null hypothesis. Note whether the nominal significance level of each test is for the strong or weak null hypothesis.\n",
    "\n",
    "    1. Find or estimate by simulation the power of each test against the one-sided shift alternative that treatment increases each individual's response by 1 unit. If the power depends on additional unspecified features of the treatment effect or on features of the baseline responses of the subjects, explain what those features are, and find the power for a few different values of those features.\n",
    "\n",
    "    1. For one-sided versions of the Wilcoxon rank-sum test, the permutation test using the sample mean, and the $t$-test, and for the Smirnov test, find the $P$-values for the following hypothetical data, and the power against a shift alternative that treatment increases the response by one unit:\n",
    "| treatment | 1 | 2 | 3 | 3 | 4 |\n",
    "|----------|---:|----:|----:|----:|----:|\n",
    "| control   | 0 | 1.5 | 2.5 | 3.5 |\n",
    "    \n",
    "    E.  Which test do you think is best in this situation, absent any additional information about the nature of the experiment? Why?\n",
    "\n",
    "5. Consider the Smirnov test for an experiment involving 5 subjects, 2 assigned at random to treatment and 3 to control.\n",
    "\n",
    "    1. Enumerate all possible values of the test statistic and their probabilities under the strong null hypothesis of no treatment effect, assuming no ties among the data.\n",
    "    \n",
    "    1. Now suppose that the observed responses are as follows. Treatment: 1, 2. Control: 0, 2, 4. Estimate the probabilities in the previous part by simulation, using 10,000 replications. Implement the simulation two ways: one using pseudorandom permutations and the other using pseudorandom samples.\n",
    "\n",
    "    1. Calculate the theoretical standard error of the simulated probabilities, on the assumption that the PRNG generates genuine uniform random numbers.\n",
    "\n",
    "    1. If the simulations were truly random and uniform, what would be the joint distribution of the number of times the test statistic takes each of its possible values in the simulation? (Identify the parametric distribution and its parameters.)\n",
    "\n",
    "    1. Sketch how you would test the hypothesis that the true probabilities are equal to the values you calculated in the first part of this question using the empirical frequencies you observed in the second part.\n",
    "\n",
    "    1. What software package did you use to do the simulations? What is its default algorithm for calculating pseudo-random numbers? What is the period of that pseudo-random number generator? What is the largest number of objects for which that generator can give you all permutations? Is there an option in the package to use a better pseudo-random number generator?  If so, which one? What algorithm does the package use to generate permutations? What algorithm does the package use to generate random samples?\n",
    "    \n",
    "6. Give two statistical interpretations and theoretical justifications for using $\\mbox{hits}/\\mbox{reps}$ as the simulation $P$-value and two for using $(\\mbox{hits}+1)/(\\mbox{reps}+1)$ as the simulation $P$-value. Which do you prefer? Why? \n",
    "\n",
    "7. Give three real-world examples of a scientific null hypothesis that can be expressed as the invariance of\n",
    "a probability model for the data under the action of some group. In each case, identify the \"scientific\" invariance and the corresponding group invariance for the data. Explain how you could use that invariance to test the scientific\n",
    "hypotheses without knowing anything else about the probability model for the data."
   ]
  }
 ],
 "metadata": {
  "kernelspec": {
   "display_name": "Python 3 (ipykernel)",
   "language": "python",
   "name": "python3"
  },
  "language_info": {
   "codemirror_mode": {
    "name": "ipython",
    "version": 3
   },
   "file_extension": ".py",
   "mimetype": "text/x-python",
   "name": "python",
   "nbconvert_exporter": "python",
   "pygments_lexer": "ipython3",
   "version": "3.10.4"
  }
 },
 "nbformat": 4,
 "nbformat_minor": 5
}
