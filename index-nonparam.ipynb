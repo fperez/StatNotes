{
 "cells": [
  {
   "cell_type": "markdown",
   "metadata": {},
   "source": [
    "# Notes on Nonparametric Statistics"
   ]
  },
  {
   "cell_type": "markdown",
   "metadata": {},
   "source": [
    "+ [Mathematical Foundations](./math-foundations.ipynb)\n",
    "+ [Inequalities and Identities](./math-inequalities.ipynb)\n",
    "+ [Probability Foundations](./prob.ipynb)\n",
    "+ [Sets, Combinatorics, and Probability](./setsCombinatorics.ipynb)\n",
    "+ [Hypothesis tests, stratified tests, combining tests](./tests.ipynb)\n",
    "+ [Confidence sets](./confidence-sets.ipynb)\n",
    "+ [Inference when there are nuisance parameters](./nuisance.ipynb)\n",
    "+ [Causal inference](./causal-inference.ipynb)\n",
    "+ [Pseudo-random numbers, integers, samples, and permutations](./pseudo-random.ipynb)\n",
    "+ [E-values](./E-values.ipynb)\n",
    "+ [Tests based on martingales and supermartingales](./martingale.ipynb)\n",
    "    - [Wald's Sequential Probability Ratio Test (SPRT)](./sprt.ipynb)\n",
    "    - [The SPRT for sampling without replacement](./pSPRTNoReplacement.ipynb)\n",
    "    - [The SPRT with nuisance parameters](./SPRTNuisance.ipynb)\n",
    "    - [The Kaplan-Wald confidence bound](./kaplanWald.ipynb)\n",
    "    - [Supermartingale tests related to the SPRT](./alpha.ipynb)\n",
    "+ [Nonparametric confidence bounds for constrained means](./nonparametricConfidence.ipynb)\n",
    "+ [Dollar-Unit Sampling and taint](./dus.ipynb)\n",
    "+ [Penny sampling](./pennySampling.ipynb)\n",
    "+ [Resampling methods: Bootstrap, Jackknife, and permutation](./bootstrap.ipynb)\n",
    "+ [Introduction to election auditing and the Kaplan-Markov Inequality](./audit.ipynb)\n",
    "+ [Introduction to permutation tests; application to gender bias in teaching evaluations](./permute-intro.ipynb)\n",
    "+ [Abstract permutation tests using projections](./permute-distance.ipynb)\n",
    "+ [Statistical inference](./inference.ipynb)\n",
    "+ [Goodness of Fit Tests](./goodness_of_fit.ipynb)\n",
    "+ [Election Audits](./election_audits.ipynb)"
   ]
  },
  {
   "cell_type": "markdown",
   "metadata": {
    "jupyter": {
     "outputs_hidden": true
    }
   },
   "source": [
    "## Collected reading list\n",
    "\n",
    "### Permutation tests\n",
    "\n",
    "+ Pesarin, F. and L. Salmaso, 2010. _Permutation Tests for Complex Data: Theory, Applications, and Software_, Wiley\n",
    "\n",
    "+ Lehmann, E., 2006. _Nonparametrics: Statistical Methods Based on Ranks_, Springer.\n",
    "\n",
    "+ Romano, J.P., 1988. A bootstrap revival of some nonparametric distance tests, _J. Amer. Stat. Assoc., 83_, 698–708;\n",
    "\n",
    "+ Romano, J.P., 1989. Bootstrap and randomization tests of some nonparametric hypotheses, _Ann. Stat., 17_, 141–159.\n",
    "\n",
    "### The Jackknife and the Bootstrap\n",
    "\n",
    "+ Beran, R., 1995. Stein confidence sets and the bootstrap, _Stat. Sinica, 5_, 109–127\n",
    "+ Beran, R., 1990. Calibrating predictions regions, _J. Amer. Stat. Assoc., 85_, 715–723\n",
    "+ Beran, R., 1990. Refining bootstrap simultaneous confidence sets, _J. Amer. Stat. Assoc., 85_, 417-426\n",
    "+ Beran, R., 1987. Prepivoting to reduce level error of confidence sets, _Biometrika, 74_, 457–468\n",
    "+ Efron, B., 1982. _The Jackknife, the bootstrap, and other resampling plans_, SIAM, Philadelphia.\n",
    "\n",
    "### $E$-values\n",
    "\n",
    "+ Vovk & Wang, 2021. $E$-values: Calibration, combination, and\n",
    "applications, http://alrw.net/e/02.pdf\n",
    "\n",
    "\n",
    "### Supermartingale-based inference:\n",
    "\n",
    "+ Howard et al.\n",
    "\n",
    "+ Waudby-Smith, I. and A. Ramdas, 2021. \n",
    "\n",
    "+ Wasserman, et al. 2020 https://www.pnas.org/doi/10.1073/pnas.1922664117\n",
    "\n",
    "### Data splitting\n",
    "\n",
    "### Experiments\n",
    "\n",
    "+ Fisher, R.A., 193? The Design of Experiments\n"
   ]
  },
  {
   "cell_type": "code",
   "execution_count": null,
   "metadata": {},
   "outputs": [],
   "source": []
  }
 ],
 "metadata": {
  "kernelspec": {
   "display_name": "Python 3 (ipykernel)",
   "language": "python",
   "name": "python3"
  },
  "language_info": {
   "codemirror_mode": {
    "name": "ipython",
    "version": 3
   },
   "file_extension": ".py",
   "mimetype": "text/x-python",
   "name": "python",
   "nbconvert_exporter": "python",
   "pygments_lexer": "ipython3",
   "version": "3.10.4"
  }
 },
 "nbformat": 4,
 "nbformat_minor": 4
}
