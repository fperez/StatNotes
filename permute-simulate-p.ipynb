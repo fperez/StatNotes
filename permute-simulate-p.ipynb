{
 "cells": [
  {
   "cell_type": "markdown",
   "id": "e2abb968-b55f-4414-836a-6f0f248f9c62",
   "metadata": {
    "tags": []
   },
   "source": [
    "# Simulating permutation test $P$-values\n",
    "\n",
    "Suppose that if the null hypothesis is true, the probability distribution of the\n",
    "data is invariant under some group $\\mathcal{G}$, for instance, the reflection group or the symmetric (i.e., permutation) group.\n",
    "\n",
    "For any pre-specified test statistic $T$, we can estimate a $P$-value by generating uniformly distributed random elements of the orbit of the data under the action of the group (see [Mathematical Fundations](./math-foundations.ipynb) if these notions are unfamiliar).\n",
    "\n",
    "Suppose we generate $n$ random elements of the orbit.\n",
    "Let $x_0$ denote the original data; let $\\{\\pi_k\\}_{k=1}^K$ denote IID random elements of \n",
    "$\\mathcal{G}$ and $x_k = \\pi_k(x_0)$, $k=1, \\ldots, K$ denote $K$ random elements of the\n",
    "orbit of $x_0$ under $\\mathcal{G}$.\n",
    "\n",
    "An unbiased estimate of the $P$-value (assuming that the random elements are generated uniformly at random--see [Algorithms for Pseudo-Random Sampling](./permute-sample.ipynb) for a caveats), is\n",
    "\n",
    "\\begin{equation*} \n",
    "  \\hat{P} = \\frac{\\#\\{ k>0: T(\\pi_k(x_0)) \\ge T(x_0)\\}}{K}.\n",
    "\\end{equation*}\n",
    "\n",
    "Once $x_0$ is known, the events $\\{T(\\pi_j(x_0)) \\ge T(x_0)\\}$ are IID with probability\n",
    "$P$ of occurring, and $\\hat{P}$ is an unbiased estimate of $P$.\n",
    "\n",
    "Another estimate of $P$ that can also be interpreted as an exact $P$-value for\n",
    "a randomized test (as discussed below), is\n",
    "\n",
    "\\begin{equation*} \n",
    "  \\hat{P}' = \\frac{\\#\\{ k \\ge 0: T(\\pi_k(x_0)) \\ge T(x_0)\\}}{K+1},\n",
    "\\end{equation*}\n",
    "\n",
    "where $\\pi_0$ is the identity permutation.\n",
    "\n",
    "The reasoning behind this choice is that, if the null hypothesis is true, the original data are one of the equally likely elements of the orbit of the data--exactly as likely as the elements generated from it. \n",
    "Thus there are really $K+1$ values that are equally likely if the null is true,\n",
    "rather than $K$: nature provided one more random permutation, the original data. \n",
    "The estimate $\\hat{P}'$ is never smaller than $1/(K+1)$.\n",
    "Some practitioners like this because it never estimates the $P$-value to be zero.\n",
    "There are other reasons for preferring it, discussed below.\n",
    "\n",
    "The estimate $\\hat{P}'$ of $P$ is generally biased, however, since $\\hat{P}$ is unbiased and \n",
    "\n",
    "\\begin{equation*} \n",
    "   \\hat{P}' = \\frac{K\\hat{P} + 1}{K+1} = \\frac{K}{K+1} \\hat{P} + \\frac{1}{K+1},\n",
    "\\end{equation*}\n",
    "\n",
    "so\n",
    "\n",
    "\\begin{equation*} \n",
    "   \\mathbb{E} \\hat{P}' = \\frac{K}{K+1} P + \\frac{1}{K+1} =\n",
    "   P  + (1-P) \\frac{1}{K+1} > P.\n",
    "\\end{equation*}\n",
    "  "
   ]
  },
  {
   "cell_type": "code",
   "execution_count": null,
   "id": "f4373b67-d328-4cc6-860f-01c59781ca3e",
   "metadata": {},
   "outputs": [],
   "source": []
  }
 ],
 "metadata": {
  "kernelspec": {
   "display_name": "Python 3 (ipykernel)",
   "language": "python",
   "name": "python3"
  },
  "language_info": {
   "codemirror_mode": {
    "name": "ipython",
    "version": 3
   },
   "file_extension": ".py",
   "mimetype": "text/x-python",
   "name": "python",
   "nbconvert_exporter": "python",
   "pygments_lexer": "ipython3",
   "version": "3.10.4"
  }
 },
 "nbformat": 4,
 "nbformat_minor": 5
}
