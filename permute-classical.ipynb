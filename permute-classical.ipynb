{
 "cells": [
  {
   "cell_type": "markdown",
   "id": "7ceae016-25bd-4ca2-b11d-9d257aedcdb9",
   "metadata": {},
   "source": [
    "# Permutation tests based on ranks, and calibrating parametric tests using permutations\n",
    "\n",
    "This notebook explores some common nonparametric tests based on ranks, and shows that many parametric tests can be calibrated nonparametrically under the null."
   ]
  },
  {
   "cell_type": "markdown",
   "id": "1308f368-a40b-4201-99ba-051148301b39",
   "metadata": {},
   "source": [
    "## Notation\n",
    "\n",
    "Ranks\n",
    "\n"
   ]
  },
  {
   "cell_type": "markdown",
   "id": "def94489-b9e1-45ab-a303-8761fb937b52",
   "metadata": {},
   "source": [
    "## The two-sample problem\n",
    "\n",
    "### Testing for a difference in location\n",
    "\n",
    "### Testing for a difference in dispersion\n",
    "\n",
    "### Testing for a difference in distribution"
   ]
  },
  {
   "cell_type": "markdown",
   "id": "d5b9e92f-8867-469a-b775-6b42cdb1a4b5",
   "metadata": {},
   "source": [
    "## The $k$-sample problem\n",
    "\n",
    "### Testing for differences in location"
   ]
  }
 ],
 "metadata": {
  "kernelspec": {
   "display_name": "Python 3 (ipykernel)",
   "language": "python",
   "name": "python3"
  },
  "language_info": {
   "codemirror_mode": {
    "name": "ipython",
    "version": 3
   },
   "file_extension": ".py",
   "mimetype": "text/x-python",
   "name": "python",
   "nbconvert_exporter": "python",
   "pygments_lexer": "ipython3",
   "version": "3.10.4"
  }
 },
 "nbformat": 4,
 "nbformat_minor": 5
}
