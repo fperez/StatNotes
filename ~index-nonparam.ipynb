{
 "cells": [
  {
   "cell_type": "markdown",
   "metadata": {},
   "source": [
    "# Notes on Nonparametric Statistics"
   ]
  },
  {
   "cell_type": "markdown",
   "metadata": {},
   "source": [
    "+ [Mathematical Foundations](./math-foundations.ipynb)\n",
    "+ [Inequalities and Identities](./math-inequalities.ipynb)\n",
    "+ [Probability Foundations](./prob.ipynb)\n",
    "+ [Sets, Combinatorics, and Probability](./setsCombinatorics.ipynb)\n",
    "+ [Hypothesis tests, stratified tests, combining tests](./tests.ipynb)\n",
    "+ [Confidence sets](./confidence-sets.ipynb)\n",
    "+ [Inference when there are nuisance parameters](./nuisance.ipynb)\n",
    "+ [Causal inference](./causal-inference.ipynb)\n",
    "+ [Pseudo-random numbers, integers, samples, and permutations](./pseudo-random.ipynb)\n",
    "+ [E-values](./E-values.ipynb)\n",
    "+ [Tests based on martingales and supermartingales](./martingale.ipynb)\n",
    "    - [Wald's Sequential Probability Ratio Test (SPRT)](./sprt.ipynb)\n",
    "    - [The SPRT for sampling without replacement](./pSPRTNoReplacement.ipynb)\n",
    "    - [The SPRT with nuisance parameters](./SPRTNuisance.ipynb)\n",
    "    - [The Kaplan-Wald confidence bound](./kaplanWald.ipynb)\n",
    "    - [Introduction to election auditing and the Kaplan-Markov Inequality](./audit.ipynb)\n",
    "    - [Supermartingale tests related to the SPRT](./alpha.ipynb)\n",
    "+ [Nonparametric confidence bounds for constrained means](./nonparametricConfidence.ipynb)\n",
    "+ [Dollar-Unit Sampling and taint](./dus.ipynb)\n",
    "+ [Penny sampling](./pennySampling.ipynb)\n",
    "+ [Resampling methods: Bootstrap, Jackknife, and permutation](./bootstrap.ipynb)\n",
    "+ [Introduction to permutation tests](./permute-intro.ipynb)\n",
    "+ [Simulating/randomizing $P$-values in permutation tests](./permute-sample.ipynb)\n",
    "+ [Abstract permutation tests based on projections](./permute-distance.ipynb)\n",
    "+ [Statistical inference](./inference.ipynb)\n",
    "+ [Goodness of Fit Tests](./goodness_of_fit.ipynb)\n",
    "+ [Density estimation and inference; inverse problems](./density-estim.ipynb)\n",
    "+ [Election Audits](./election_audits.ipynb)"
   ]
  }
 ],
 "metadata": {
  "kernelspec": {
   "display_name": "Python 3 (ipykernel)",
   "language": "python",
   "name": "python3"
  },
  "language_info": {
   "codemirror_mode": {
    "name": "ipython",
    "version": 3
   },
   "file_extension": ".py",
   "mimetype": "text/x-python",
   "name": "python",
   "nbconvert_exporter": "python",
   "pygments_lexer": "ipython3",
   "version": "3.10.4"
  }
 },
 "nbformat": 4,
 "nbformat_minor": 4
}
