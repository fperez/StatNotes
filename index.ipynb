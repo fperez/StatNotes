{
 "cells": [
  {
   "cell_type": "markdown",
   "id": "f3de764c-c367-4d6c-963d-122ae0617535",
   "metadata": {},
   "source": [
    "# Notes on Applied Statistics\n",
    "# P.B. Stark\n",
    "\n",
    "## Copyright (c) 2021--2023 by Philip B. Stark\n",
    "\n",
    "## License: CC-BY-ND https://creativecommons.org/licenses/by-nd/4.0/legalcode"
   ]
  }
 ],
 "metadata": {
  "kernelspec": {
   "display_name": "Python 3 (ipykernel)",
   "language": "python",
   "name": "python3"
  },
  "language_info": {
   "codemirror_mode": {
    "name": "ipython",
    "version": 3
   },
   "file_extension": ".py",
   "mimetype": "text/x-python",
   "name": "python",
   "nbconvert_exporter": "python",
   "pygments_lexer": "ipython3",
   "version": "3.10.9"
  }
 },
 "nbformat": 4,
 "nbformat_minor": 5
}
