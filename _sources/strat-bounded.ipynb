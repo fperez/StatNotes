{
 "cells": [
  {
   "cell_type": "markdown",
   "id": "720769d8-8995-44a6-803f-701cc5b3e0e9",
   "metadata": {},
   "source": [
    "# Inference about bounded populations from stratified samples"
   ]
  },
  {
   "cell_type": "markdown",
   "id": "f2495893-7854-4789-b410-0b5c60f06ebd",
   "metadata": {},
   "source": [
    "+ Union-intersection tests and SUITE\n",
    "+ ALPHA\n",
    "+ Sweeter than SUITE"
   ]
  },
  {
   "cell_type": "code",
   "execution_count": null,
   "id": "3c1bf428-97b5-43e1-a0f8-199ff1d0a6b1",
   "metadata": {},
   "outputs": [],
   "source": []
  }
 ],
 "metadata": {
  "kernelspec": {
   "display_name": "Python 3 (ipykernel)",
   "language": "python",
   "name": "python3"
  },
  "language_info": {
   "codemirror_mode": {
    "name": "ipython",
    "version": 3
   },
   "file_extension": ".py",
   "mimetype": "text/x-python",
   "name": "python",
   "nbconvert_exporter": "python",
   "pygments_lexer": "ipython3",
   "version": "3.10.4"
  }
 },
 "nbformat": 4,
 "nbformat_minor": 5
}
