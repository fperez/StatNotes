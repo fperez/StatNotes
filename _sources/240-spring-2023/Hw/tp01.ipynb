{
 "cells": [
  {
   "cell_type": "markdown",
   "id": "308c4f14-8927-4055-9716-29922c664d2d",
   "metadata": {},
   "source": [
    "# Term project"
   ]
  },
  {
   "cell_type": "markdown",
   "id": "e2083b7b-cee4-4b7a-ab1c-2c8b037fe7e1",
   "metadata": {},
   "source": [
    "1. Write a brief (1--2 page) research proposal for your term project.  The proposal\n",
    "should include the primary reference, the scientific question it addresses,\n",
    "a description of how the data were collected, and the methods used in the paper.\n",
    "(A later assignment will address the methods you plan to use instead.)\n",
    "If you need help picking a paper/topic, see me."
   ]
  }
 ],
 "metadata": {
  "kernelspec": {
   "display_name": "Python 3 (ipykernel)",
   "language": "python",
   "name": "python3"
  },
  "language_info": {
   "codemirror_mode": {
    "name": "ipython",
    "version": 3
   },
   "file_extension": ".py",
   "mimetype": "text/x-python",
   "name": "python",
   "nbconvert_exporter": "python",
   "pygments_lexer": "ipython3",
   "version": "3.10.4"
  }
 },
 "nbformat": 4,
 "nbformat_minor": 5
}
