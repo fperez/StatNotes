{
 "cells": [
  {
   "cell_type": "markdown",
   "id": "68adc64f-1b94-40d2-afaf-f2224ddc2663",
   "metadata": {},
   "source": [
    "# Coding project 2"
   ]
  },
  {
   "cell_type": "markdown",
   "id": "b9e88720-857c-43a7-afba-6e6012b29e6f",
   "metadata": {},
   "source": [
    "## Contributing to an open source package: implementing new functionality\n",
    "\n",
    "This project continues the first coding assignment.\n",
    "\n",
    "+ See https://github.com/statlab/permute and https://statlab.github.io/permute/\n",
    "\n",
    "+ Read https://statlab.github.io/permute/dev/index.html\n",
    "\n",
    "+ Clone https://github.com/statlab/permute to your own device or to datahub. Set upstream to be a repository within your Berkeley Github repo for Stat 240.\n",
    "\n",
    "There are many nonparametric tests and confidence procedures not yet in `permute`, for instance:\n",
    "\n",
    "+ tests and confidence intervals/sequences for bounded means using betting martingales, for a variety of betting strategies; ALPHA\n",
    "\n",
    "+ tests and confidence intervals for the treatment effect for binary treatment and binary outcomes: Li and Ding or Aronow et al. See [causal inference](./causal-inference.ipynb).\n",
    "\n",
    "+ tests and confidence sets for percentiles of the treatment effect for bounded outcomes (Caughey et al.)\n",
    "\n",
    "+ exact tests and confidence intervals for the mean from stratified samples, including methods based on greedy discrete optimization and on supermartingales, $E$-values, and union-intersection tests.\n",
    "\n",
    "+ Gaffke's bound\n",
    "\n",
    "+ Romano's projection of the empirical approach to testing nonparametric hypotheses, including symmetry, exchangeability, and independence\n",
    "\n",
    "\n",
    "+ Optimally short two-sided confidence bounds for the binomial $p$ and hypergeometric $G$ (see [confidence sets](./confidence-sets.ipynb)).\n",
    "\n",
    "Code up one of those, or some other nonparametric method from the course that is not yet implemented in `permute`.\n",
    "Make sure the calling signature of your function is parallel to that of similar functions in the package.\n",
    "Make sure the function has the right level of abstraction, and that you provide implementations of\n",
    "a number of sub-functions if that is warranted. \n",
    "For instance, for methods based on betting martingales,\n",
    "you should implement a number of betting strategies; for the ALPHA approach, you should implement\n",
    "a number of \"estimators.\" \n",
    "If the method can be computed exactly in some circumstances but needs to be approximated/simulated/randomized \n",
    "in others, provide both options.\n",
    "Document your function. Write unit tests that cover its functionality completely. \n",
    "When you're satisfied that it's correct, complete, tidy, and well documented, \n",
    "make a pull request to the project."
   ]
  },
  {
   "cell_type": "code",
   "execution_count": null,
   "id": "99b351f3-d3d4-46fc-84b4-162981b847a3",
   "metadata": {},
   "outputs": [],
   "source": []
  }
 ],
 "metadata": {
  "kernelspec": {
   "display_name": "Python 3 (ipykernel)",
   "language": "python",
   "name": "python3"
  },
  "language_info": {
   "codemirror_mode": {
    "name": "ipython",
    "version": 3
   },
   "file_extension": ".py",
   "mimetype": "text/x-python",
   "name": "python",
   "nbconvert_exporter": "python",
   "pygments_lexer": "ipython3",
   "version": "3.10.4"
  }
 },
 "nbformat": 4,
 "nbformat_minor": 5
}
