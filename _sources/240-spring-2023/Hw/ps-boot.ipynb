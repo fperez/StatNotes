{
 "cells": [
  {
   "cell_type": "markdown",
   "id": "03cfa22f-e3a1-40f6-9c4b-37bdf3bac150",
   "metadata": {},
   "source": [
    "# The Bootstrap"
   ]
  },
  {
   "cell_type": "markdown",
   "id": "58290ef3-e08e-49ac-b7c2-c00063241a08",
   "metadata": {},
   "source": [
    "Consider forming a two-sided 95\\% confidence interval for the expected value $\\mu$ of\n",
    "a distribution $\\mathbb{P}$ based on the sample mean $\\bar{X}$ of an IID sample\n",
    "$\\{X_j\\}_{j=1}^n$, using $| \\bar{X} - \\mu |$ as a pivot.\n",
    "\n",
    "+ Implement the three \"double-bootstrap\" approaches to finding a confidence interval\n",
    "(Beran's pre-pivoting, Efron's  calibrated target percentile, and the\n",
    "percentile-of-percentile, using the 95th percentile).\n",
    "\n",
    "+ Generate 100 synthetic samples of sizes 50 and 100 from each of the following distributions: normal,\n",
    "lognormal, Cauchy, mixtures of normals with the same mean but quite different variances (try three \n",
    "different mixtures), and mixtures of normals with different means and different variances\n",
    "(three mixtures; the means should differ enough that the result is bimodal).\n",
    "\n",
    "+ Apply the three double bootstrap methods to each of the samples, resampling 1000 times from each of\n",
    "1000 first-generation bootstrap samples.\n",
    "Record how often the intervals produced by each method for each distribution cover the\n",
    "mean of the distribution from which the original samples were drawn,\n",
    "for each sample size and each parent distribution. (How do you interpret coverage for the Cauchy?)\n",
    "\n",
    "+ Performance:\n",
    "    - Which method on the average has the lowest (estimated) error in the confidence level? \n",
    "    - Which method on average gives the shortest intervals? The longest?\n",
    "    - Which method tends to be most conservative (i.e., which have the highest estimated coverage probability)?  \n",
    "    - Do methods with (on average) shorter intervals necessarily have lower coverage?\n",
    "\n",
    "+ Try to provide some intuition about the circumstances under which each method performs poorly, and under which it performs well."
   ]
  },
  {
   "cell_type": "code",
   "execution_count": null,
   "id": "0b486f9d-97e0-4ac9-928e-ac035f5ec611",
   "metadata": {},
   "outputs": [],
   "source": []
  }
 ],
 "metadata": {
  "kernelspec": {
   "display_name": "Python 3 (ipykernel)",
   "language": "python",
   "name": "python3"
  },
  "language_info": {
   "codemirror_mode": {
    "name": "ipython",
    "version": 3
   },
   "file_extension": ".py",
   "mimetype": "text/x-python",
   "name": "python",
   "nbconvert_exporter": "python",
   "pygments_lexer": "ipython3",
   "version": "3.10.4"
  }
 },
 "nbformat": 4,
 "nbformat_minor": 5
}
