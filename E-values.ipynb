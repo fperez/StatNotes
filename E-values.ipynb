{
 "cells": [
  {
   "cell_type": "markdown",
   "id": "d8001024-6322-40ff-9b84-ba51c9ff0a59",
   "metadata": {},
   "source": [
    "# $E$-values\n",
    "\n",
    "Core reference: \n",
    "\n",
    "+ Vovk & Wang, 2021. $E$-values: Calibration, combination, and\n",
    "applications, http://alrw.net/e/02.pdf\n",
    "\n",
    "+ \n",
    "\n",
    "# Supermartingale-based inference:\n",
    "\n",
    "+ Howard et al.\n",
    "\n",
    "+ Waudby-Smith & Ramdas\n",
    "\n",
    "+ Wasserman, et al. 2020 https://www.pnas.org/doi/10.1073/pnas.1922664117\n",
    "\n",
    "# Data splitting\n",
    "\n",
    "# Experiments\n",
    "\n"
   ]
  }
 ],
 "metadata": {
  "kernelspec": {
   "display_name": "Python 3 (ipykernel)",
   "language": "python",
   "name": "python3"
  },
  "language_info": {
   "codemirror_mode": {
    "name": "ipython",
    "version": 3
   },
   "file_extension": ".py",
   "mimetype": "text/x-python",
   "name": "python",
   "nbconvert_exporter": "python",
   "pygments_lexer": "ipython3",
   "version": "3.10.4"
  }
 },
 "nbformat": 4,
 "nbformat_minor": 5
}
