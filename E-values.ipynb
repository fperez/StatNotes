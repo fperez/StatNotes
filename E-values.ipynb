{
 "cells": [
  {
   "cell_type": "markdown",
   "id": "d8001024-6322-40ff-9b84-ba51c9ff0a59",
   "metadata": {},
   "source": [
    "# $E$-values\n",
    "\n",
    "Core reference: \n",
    "\n",
    "+ Vovk & Wang, 2021. $E$-values: Calibration, combination, and\n",
    "applications, http://alrw.net/e/02.pdf\n",
    "\n",
    "\n",
    "$E$ values are a way of quantifying evidence about a statistical hypothesis. They are closely related\n",
    "to $P$-values."
   ]
  },
  {
   "cell_type": "markdown",
   "id": "8920d2c6-02e0-40c3-bd7f-feb42a8e1471",
   "metadata": {},
   "source": [
    "**Definition.**\n",
    "Let $(\\Omega, \\mathcal{A}, \\mathbb{P})$ be a probability space,\n",
    "and let $E$ be a random variable $E: \\Omega \\rightarrow [0, \\infty]$ such that\n",
    "$\\mathbb{E}_\\mathbb{P}(E) := \\int_{\\mathcal{X}} E d\\mathbb{P} \\le 1$. (Note that $E$ is allowed to take the value $\\infty$: this will correspond to the strongest possible evidence that the data do not come from $\\mathbb{P}$.)\n",
    "Then $E$ is an e-variable for $\\mathbb{P}$.\n",
    "\n",
    "Let $\\mathcal{P}$ be a collection of probability distributions on the measurable space $(\\Omega, \\mathcal{A})$,\n",
    "and let $E$ be a random variable $E: \\Omega \\rightarrow [0, \\infty]$ such that for all $\\mathbb{P} \\in \\mathcal{P}$,\n",
    "$\\mathbb{E}_\\mathbb{P}(E) := \\int_{\\mathcal{X}} E d\\mathbb{P} \\le 1$.\n",
    "Then $E$ is an e-variable for $\\mathcal{P}$."
   ]
  },
  {
   "cell_type": "markdown",
   "id": "1029036d-a146-4b18-ac35-f0e6afd62e28",
   "metadata": {},
   "source": [
    "**$P$ to $E$ calibration function**"
   ]
  },
  {
   "cell_type": "markdown",
   "id": "28119c24-d418-4b0b-a244-69b29bdab4c9",
   "metadata": {},
   "source": [
    "**$E$ to $P$ calibration function**\n"
   ]
  }
 ],
 "metadata": {
  "kernelspec": {
   "display_name": "Python 3 (ipykernel)",
   "language": "python",
   "name": "python3"
  },
  "language_info": {
   "codemirror_mode": {
    "name": "ipython",
    "version": 3
   },
   "file_extension": ".py",
   "mimetype": "text/x-python",
   "name": "python",
   "nbconvert_exporter": "python",
   "pygments_lexer": "ipython3",
   "version": "3.10.4"
  }
 },
 "nbformat": 4,
 "nbformat_minor": 5
}
