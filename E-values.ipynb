{
 "cells": [
  {
   "cell_type": "markdown",
   "id": "d8001024-6322-40ff-9b84-ba51c9ff0a59",
   "metadata": {},
   "source": [
    "# $E$-values\n",
    "\n",
    "Core reference: \n",
    "\n",
    "+ Vovk & Wang, 2021. $E$-values: Calibration, combination, and\n",
    "applications, http://alrw.net/e/02.pdf\n",
    "\n",
    "\n",
    "$E$ values are a way of quantifying evidence about a statistical hypothesis. They are closely related\n",
    "to $P$-values."
   ]
  },
  {
   "cell_type": "markdown",
   "id": "8920d2c6-02e0-40c3-bd7f-feb42a8e1471",
   "metadata": {},
   "source": [
    "**Definition.**\n",
    "Let $(\\Omega, \\mathcal{A}, \\mathbb{P})$ be a probability space,\n",
    "and let $E$ be a random variable $E: \\Omega \\rightarrow [0, \\infty]$ such that\n",
    "$\\mathbb{E}_\\mathbb{P}(E) := \\int_{\\mathcal{X}} E d\\mathbb{P} \\le 1$. (Note that $E$ is allowed to take the value $\\infty$: this will correspond to the strongest possible evidence that the data do not come from $\\mathbb{P}$.)\n",
    "Then **$E$ is an e-variable for $\\mathbb{P}$.**\n",
    "\n",
    "Let $\\mathcal{P}$ be a collection of probability distributions on the measurable space $(\\Omega, \\mathcal{A})$,\n",
    "and let $E$ be a random variable $E: \\Omega \\rightarrow [0, \\infty]$ such that for all $\\mathbb{P} \\in \\mathcal{P}$,\n",
    "$\\mathbb{E}_\\mathbb{P}(E) := \\int_{\\mathcal{X}} E d\\mathbb{P} \\le 1$.\n",
    "Then **$E$ is an e-variable for $\\mathcal{P}$.**\n",
    "\n",
    "The set of all $E$-variables for a collection $\\mathcal{P}$ of probability distributions is $\\mathcal{E}(\\mathcal{P})$.\n",
    "\n",
    "The observed value of an $E$-variable is an $E$-value.\n",
    "\n",
    "**Definition.**\n",
    "Let $(\\Omega, \\mathcal{A}, \\mathbb{P})$ be a probability space,\n",
    "and let $P$ be a random variable $P: \\Omega \\rightarrow [0, 1]$ such that\n",
    "$\\forall p \\in [0, 1]$,\n",
    "$\\mathbb{P}(P \\le p) \\le p$.\n",
    "Then **$P$ is a P-variable for $\\mathbb{P}$.**\n",
    "\n",
    "Let $\\mathcal{P}$ be a collection of probability distributions on the measurable space $(\\Omega, \\mathcal{A})$,\n",
    "and let $P$ be a random variable $P: \\Omega \\rightarrow [0, 1]$ such that for all $\\mathbb{P} \\in \\mathcal{P}$,\n",
    "$\\forall p \\in [0, 1]$,\n",
    "$\\mathbb{P}(P \\le p) \\le p$.\n",
    "Then **$P$ is a P-variable for $\\mathcal{P}$.**\n",
    "\n",
    "The set of all $P$-variables for a collection $\\mathcal{P}$ of probability distributions is $\\mathcal{P}(\\mathcal{P})$.\n",
    "\n",
    "\n",
    "The observed value of a $P$-variable is a $P$-value.\n",
    "\n"
   ]
  },
  {
   "cell_type": "markdown",
   "id": "1029036d-a146-4b18-ac35-f0e6afd62e28",
   "metadata": {},
   "source": [
    "**$P$ to $E$ calibration function**\n",
    "\n",
    "Suppose $f : [0, 1] \\rightarrow [0, \\infty]$  is a ($p$-to-$e$) calibrator if, for any probability space \n",
    "$(\\Omega, \\mathcal{A}, \\mathbb{Q}) and any $P$-variable $P \\in  \\mathcal{P}_Q,\n",
    "f(P) ∈ EQ. \n",
    "\n",
    "A calibrator $f$ *dominates* a calibrator $g$ if $f \\ge g$; $f$ *strictly dominates* $g$ if $f \\ge g$ and $f \\ne $g$.\n",
    "A calibrator is *admissible* if it is not strictly dominated by any other calibrator.\n",
    "\n",
    "\n",
    "The following proposition says that a calibrator is a nonnegative decreasing\n",
    "function integrating to at most 1 over the uniform probability measure.\n",
    "Proposition 2.2. A decreasing function f : [0, 1] → [0, ∞] is a calibrator if\n",
    "and only if R 1\n",
    "0\n",
    "f ≤ 1. It is admissible if and only if f is upper semicontinuous,\n",
    "f(0) = ∞, and R 1\n",
    "0\n",
    "f = 1."
   ]
  },
  {
   "cell_type": "markdown",
   "id": "28119c24-d418-4b0b-a244-69b29bdab4c9",
   "metadata": {},
   "source": [
    "**$E$ to $P$ calibration function**\n"
   ]
  }
 ],
 "metadata": {
  "kernelspec": {
   "display_name": "Python 3 (ipykernel)",
   "language": "python",
   "name": "python3"
  },
  "language_info": {
   "codemirror_mode": {
    "name": "ipython",
    "version": 3
   },
   "file_extension": ".py",
   "mimetype": "text/x-python",
   "name": "python",
   "nbconvert_exporter": "python",
   "pygments_lexer": "ipython3",
   "version": "3.10.4"
  }
 },
 "nbformat": 4,
 "nbformat_minor": 5
}
